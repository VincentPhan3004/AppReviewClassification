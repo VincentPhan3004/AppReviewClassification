{
 "cells": [
  {
   "cell_type": "code",
   "execution_count": null,
   "metadata": {},
   "outputs": [],
   "source": [
    "import re\n",
    "import pandas as pd\n",
    "sms = pd.read_csv('spam.csv',encoding='ISO-8859-1');\n",
    "sms.head()\n",
    "#nltk.download('stopwords')\n",
    "#nltk.download('punkt')\n",
    "from nltk.tokenize import word_tokenize\n",
    "from nltk.corpus import stopwords \n",
    "\n",
    "#Preprocessing the data: Remove none alphabetic characters/Make the word lower case/Remove the stop words\n",
    "\n",
    "def mutlti_func(x):       \n",
    "    WT_sms= word_tokenize(str(re.sub('[^A-Za-z]', ' ', x)).lower())\n",
    "    for word in WT_sms:\n",
    "        if word in stopwords.words('english'):\n",
    "            WT_sms.remove(word)\n",
    "    return WT_sms\n",
    "\n",
    "\n",
    "sms['v2']=sms['v2'].apply(mutlti_func)\n",
    "sms.head()"
   ]
  },
  {
   "cell_type": "code",
   "execution_count": null,
   "metadata": {},
   "outputs": [],
   "source": [
    "from nltk.stem.porter import PorterStemmer\n",
    "from autocorrect import Speller\n",
    "\n",
    "# Stemming / Spelling \n",
    "\n",
    "stemmer = PorterStemmer()\n",
    "\n",
    "def stem_spell_fuc(x):\n",
    "    for i in range(len(x)):\n",
    "        x[i] = stemmer.stem(Speller(x[i]))\n",
    "    return x\n",
    "\n",
    "sms['v2']=sms['v2'].apply(stem_spell_fuc)\n",
    "sms.head()\n"
   ]
  }
 ],
 "metadata": {
  "kernelspec": {
   "display_name": "Python 3",
   "language": "python",
   "name": "python3"
  },
  "language_info": {
   "codemirror_mode": {
    "name": "ipython",
    "version": 3
   },
   "file_extension": ".py",
   "mimetype": "text/x-python",
   "name": "python",
   "nbconvert_exporter": "python",
   "pygments_lexer": "ipython3",
   "version": "3.7.3"
  }
 },
 "nbformat": 4,
 "nbformat_minor": 2
}
