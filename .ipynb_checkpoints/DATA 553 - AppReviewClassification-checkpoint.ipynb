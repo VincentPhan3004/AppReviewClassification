{
 "cells": [
  {
   "cell_type": "code",
   "execution_count": 3,
   "metadata": {},
   "outputs": [],
   "source": [
    "import requests, json, os, warnings, re\n",
    "import pandas as pd\n",
    "import datetime\n",
    "import matplotlib.pyplot as plt\n",
    "import sys"
   ]
  },
  {
   "cell_type": "markdown",
   "metadata": {},
   "source": [
    "#### Loading testing database"
   ]
  },
  {
   "cell_type": "code",
   "execution_count": 8,
   "metadata": {},
   "outputs": [],
   "source": [
    "testingData=pd.read_csv(\"Data542_finaldata_final.csv\")"
   ]
  },
  {
   "cell_type": "markdown",
   "metadata": {},
   "source": [
    "#### Loading training database"
   ]
  },
  {
   "cell_type": "code",
   "execution_count": 4,
   "metadata": {},
   "outputs": [],
   "source": [
    "trainingData= pd.read_json(\"all.json\") "
   ]
  },
  {
   "cell_type": "code",
   "execution_count": 15,
   "metadata": {},
   "outputs": [
    {
     "data": {
      "text/html": [
       "<div>\n",
       "<style scoped>\n",
       "    .dataframe tbody tr th:only-of-type {\n",
       "        vertical-align: middle;\n",
       "    }\n",
       "\n",
       "    .dataframe tbody tr th {\n",
       "        vertical-align: top;\n",
       "    }\n",
       "\n",
       "    .dataframe thead th {\n",
       "        text-align: right;\n",
       "    }\n",
       "</style>\n",
       "<table border=\"1\" class=\"dataframe\">\n",
       "  <thead>\n",
       "    <tr style=\"text-align: right;\">\n",
       "      <th></th>\n",
       "      <th>Exclude</th>\n",
       "      <th>appId</th>\n",
       "      <th>comment</th>\n",
       "      <th>dataSource</th>\n",
       "      <th>date</th>\n",
       "      <th>fee</th>\n",
       "      <th>future</th>\n",
       "      <th>id</th>\n",
       "      <th>label</th>\n",
       "      <th>lemmatized_comment</th>\n",
       "      <th>...</th>\n",
       "      <th>reviewId</th>\n",
       "      <th>reviewer</th>\n",
       "      <th>sentiScore</th>\n",
       "      <th>sentiScore_neg</th>\n",
       "      <th>sentiScore_pos</th>\n",
       "      <th>stemmed</th>\n",
       "      <th>stopwords_removal</th>\n",
       "      <th>stopwords_removal_lemmatization</th>\n",
       "      <th>stopwords_removal_nltk</th>\n",
       "      <th>title</th>\n",
       "    </tr>\n",
       "  </thead>\n",
       "  <tbody>\n",
       "    <tr>\n",
       "      <th>0</th>\n",
       "      <td>NaN</td>\n",
       "      <td>None</td>\n",
       "      <td>Besides the occasional crash, this is an amazi...</td>\n",
       "      <td>RE2014_app_and_play_store_apps</td>\n",
       "      <td>None</td>\n",
       "      <td>None</td>\n",
       "      <td>0</td>\n",
       "      <td>264</td>\n",
       "      <td>Bug</td>\n",
       "      <td>besides the occasional crash, this be an amaze...</td>\n",
       "      <td>...</td>\n",
       "      <td>10946</td>\n",
       "      <td>None</td>\n",
       "      <td>3</td>\n",
       "      <td>-1</td>\n",
       "      <td>3</td>\n",
       "      <td>besid the occa crash, thi is an amaz produc wi...</td>\n",
       "      <td>besides occasional crash, this amazing product...</td>\n",
       "      <td>besides occasional crash, this amaze product w...</td>\n",
       "      <td>besides occasional crash, amazing product tons...</td>\n",
       "      <td>Almost perfect</td>\n",
       "    </tr>\n",
       "    <tr>\n",
       "      <th>1</th>\n",
       "      <td>NaN</td>\n",
       "      <td>382698565</td>\n",
       "      <td>This could be a great app if it was predictabl...</td>\n",
       "      <td>AppStore_Random</td>\n",
       "      <td>None</td>\n",
       "      <td>None</td>\n",
       "      <td>0</td>\n",
       "      <td>111</td>\n",
       "      <td>Bug</td>\n",
       "      <td>this could be a great app if it be predictable...</td>\n",
       "      <td>...</td>\n",
       "      <td>638</td>\n",
       "      <td>None</td>\n",
       "      <td>3</td>\n",
       "      <td>-1</td>\n",
       "      <td>3</td>\n",
       "      <td>thi could be a gre ap if it was predictable, b...</td>\n",
       "      <td>this could be great app if was predictable, bu...</td>\n",
       "      <td>this could be great app if be predictable, but...</td>\n",
       "      <td>could great app predictable, full bugs unpredi...</td>\n",
       "      <td>Take a photo of your boarding pass</td>\n",
       "    </tr>\n",
       "    <tr>\n",
       "      <th>2</th>\n",
       "      <td>NaN</td>\n",
       "      <td>None</td>\n",
       "      <td>I can't open since the last 2 updates Pop-ups ...</td>\n",
       "      <td>RE2014_app_and_play_store_apps</td>\n",
       "      <td>None</td>\n",
       "      <td>None</td>\n",
       "      <td>0</td>\n",
       "      <td>210</td>\n",
       "      <td>Bug</td>\n",
       "      <td>i can't open since the last 2 update pop-up go...</td>\n",
       "      <td>...</td>\n",
       "      <td>3129</td>\n",
       "      <td>None</td>\n",
       "      <td>2</td>\n",
       "      <td>-1</td>\n",
       "      <td>2</td>\n",
       "      <td>i can't op sint the last 2 upd pop-ups go craz...</td>\n",
       "      <td>can't open since last 2 updates pop-ups go cra...</td>\n",
       "      <td>can't open since last 2 update pop-up go crazy...</td>\n",
       "      <td>can't open since last 2 updates pop-ups go cra...</td>\n",
       "      <td>Won't open due to pop-ups since upgrade</td>\n",
       "    </tr>\n",
       "  </tbody>\n",
       "</table>\n",
       "<p>3 rows × 25 columns</p>\n",
       "</div>"
      ],
      "text/plain": [
       "  Exclude      appId                                            comment  \\\n",
       "0     NaN       None  Besides the occasional crash, this is an amazi...   \n",
       "1     NaN  382698565  This could be a great app if it was predictabl...   \n",
       "2     NaN       None  I can't open since the last 2 updates Pop-ups ...   \n",
       "\n",
       "                       dataSource  date   fee  future   id label  \\\n",
       "0  RE2014_app_and_play_store_apps  None  None       0  264   Bug   \n",
       "1                 AppStore_Random  None  None       0  111   Bug   \n",
       "2  RE2014_app_and_play_store_apps  None  None       0  210   Bug   \n",
       "\n",
       "                                  lemmatized_comment  ...  reviewId  reviewer  \\\n",
       "0  besides the occasional crash, this be an amaze...  ...     10946      None   \n",
       "1  this could be a great app if it be predictable...  ...       638      None   \n",
       "2  i can't open since the last 2 update pop-up go...  ...      3129      None   \n",
       "\n",
       "   sentiScore  sentiScore_neg  sentiScore_pos  \\\n",
       "0           3              -1               3   \n",
       "1           3              -1               3   \n",
       "2           2              -1               2   \n",
       "\n",
       "                                             stemmed  \\\n",
       "0  besid the occa crash, thi is an amaz produc wi...   \n",
       "1  thi could be a gre ap if it was predictable, b...   \n",
       "2  i can't op sint the last 2 upd pop-ups go craz...   \n",
       "\n",
       "                                   stopwords_removal  \\\n",
       "0  besides occasional crash, this amazing product...   \n",
       "1  this could be great app if was predictable, bu...   \n",
       "2  can't open since last 2 updates pop-ups go cra...   \n",
       "\n",
       "                     stopwords_removal_lemmatization  \\\n",
       "0  besides occasional crash, this amaze product w...   \n",
       "1  this could be great app if be predictable, but...   \n",
       "2  can't open since last 2 update pop-up go crazy...   \n",
       "\n",
       "                              stopwords_removal_nltk  \\\n",
       "0  besides occasional crash, amazing product tons...   \n",
       "1  could great app predictable, full bugs unpredi...   \n",
       "2  can't open since last 2 updates pop-ups go cra...   \n",
       "\n",
       "                                     title  \n",
       "0                           Almost perfect  \n",
       "1       Take a photo of your boarding pass  \n",
       "2  Won't open due to pop-ups since upgrade  \n",
       "\n",
       "[3 rows x 25 columns]"
      ]
     },
     "execution_count": 15,
     "metadata": {},
     "output_type": "execute_result"
    }
   ],
   "source": [
    "trainingData[0:3]"
   ]
  },
  {
   "cell_type": "markdown",
   "metadata": {},
   "source": [
    "#### 1.  STARTING TO TRAIN THE MODEL"
   ]
  },
  {
   "cell_type": "markdown",
   "metadata": {},
   "source": [
    "#### 1.1 Vectorizing the data"
   ]
  },
  {
   "cell_type": "code",
   "execution_count": 5,
   "metadata": {},
   "outputs": [
    {
     "data": {
      "text/plain": [
       "(3691, 5737)"
      ]
     },
     "execution_count": 5,
     "metadata": {},
     "output_type": "execute_result"
    }
   ],
   "source": [
    "from sklearn.feature_extraction.text import CountVectorizer\n",
    "count_vect = CountVectorizer()\n",
    "trainingReview_stopwords_nltk = count_vect.fit_transform(trainingData.stopwords_removal_nltk)"
   ]
  },
  {
   "cell_type": "code",
   "execution_count": null,
   "metadata": {},
   "outputs": [],
   "source": [
    "from sklearn.feature_extraction.text import CountVectorizer\n",
    "matrix = CountVectorizer(max_features=1000)\n",
    "X = matrix.fit_transform(data).toarray()"
   ]
  },
  {
   "cell_type": "code",
   "execution_count": 7,
   "metadata": {},
   "outputs": [
    {
     "name": "stdout",
     "output_type": "stream",
     "text": [
      "[[0 0 0 ... 0 0 0]\n",
      " [0 0 0 ... 0 0 0]\n",
      " [0 0 0 ... 0 0 0]\n",
      " ...\n",
      " [0 0 0 ... 0 0 0]\n",
      " [0 0 0 ... 0 0 0]\n",
      " [0 0 0 ... 0 0 0]]\n"
     ]
    }
   ],
   "source": [
    "print(trainingReview_stopwords_nltk.toarray())"
   ]
  },
  {
   "cell_type": "markdown",
   "metadata": {},
   "source": [
    "#### 1.2 Training the model"
   ]
  },
  {
   "cell_type": "code",
   "execution_count": null,
   "metadata": {},
   "outputs": [],
   "source": [
    "from sklearn.naive_bayes import MultinomialNB\n",
    "clf = MultinomialNB().fit(X_train_tfidf, twenty_train.target)"
   ]
  }
 ],
 "metadata": {
  "kernelspec": {
   "display_name": "Python 3",
   "language": "python",
   "name": "python3"
  },
  "language_info": {
   "codemirror_mode": {
    "name": "ipython",
    "version": 3
   },
   "file_extension": ".py",
   "mimetype": "text/x-python",
   "name": "python",
   "nbconvert_exporter": "python",
   "pygments_lexer": "ipython3",
   "version": "3.7.3"
  }
 },
 "nbformat": 4,
 "nbformat_minor": 2
}
