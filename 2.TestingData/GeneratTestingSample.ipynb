{
 "cells": [
  {
   "cell_type": "code",
   "execution_count": 2,
   "metadata": {},
   "outputs": [],
   "source": [
    "import pandas as pd\n",
    "testingData=pd.read_csv(\"./2.TestingData/Data542_finaldata_final.csv\")"
   ]
  },
  {
   "cell_type": "code",
   "execution_count": 3,
   "metadata": {},
   "outputs": [
    {
     "data": {
      "text/html": [
       "<div>\n",
       "<style scoped>\n",
       "    .dataframe tbody tr th:only-of-type {\n",
       "        vertical-align: middle;\n",
       "    }\n",
       "\n",
       "    .dataframe tbody tr th {\n",
       "        vertical-align: top;\n",
       "    }\n",
       "\n",
       "    .dataframe thead th {\n",
       "        text-align: right;\n",
       "    }\n",
       "</style>\n",
       "<table border=\"1\" class=\"dataframe\">\n",
       "  <thead>\n",
       "    <tr style=\"text-align: right;\">\n",
       "      <th></th>\n",
       "      <th>Unnamed: 0</th>\n",
       "      <th>index</th>\n",
       "      <th>appTitle</th>\n",
       "      <th>userName</th>\n",
       "      <th>date</th>\n",
       "      <th>score</th>\n",
       "      <th>text</th>\n",
       "      <th>category</th>\n",
       "      <th>appTitle_lower</th>\n",
       "      <th>text_org</th>\n",
       "      <th>contentRating</th>\n",
       "      <th>Review Length</th>\n",
       "      <th>month</th>\n",
       "    </tr>\n",
       "  </thead>\n",
       "  <tbody>\n",
       "    <tr>\n",
       "      <th>0</th>\n",
       "      <td>0</td>\n",
       "      <td>2</td>\n",
       "      <td>Photomath</td>\n",
       "      <td>NaN</td>\n",
       "      <td>March 8, 2019</td>\n",
       "      <td>5</td>\n",
       "      <td>Great App Detailed answers Understandable answers</td>\n",
       "      <td>EDUCATION</td>\n",
       "      <td>photomath</td>\n",
       "      <td>Great App. Detailed answers. Understandable an...</td>\n",
       "      <td>Everyone</td>\n",
       "      <td>49</td>\n",
       "      <td>3</td>\n",
       "    </tr>\n",
       "    <tr>\n",
       "      <th>1</th>\n",
       "      <td>1</td>\n",
       "      <td>6</td>\n",
       "      <td>Photomath</td>\n",
       "      <td>אוביידו אדריאנה</td>\n",
       "      <td>March 8, 2019</td>\n",
       "      <td>5</td>\n",
       "      <td>Great tool for learning math I love it</td>\n",
       "      <td>EDUCATION</td>\n",
       "      <td>photomath</td>\n",
       "      <td>Great tool for learning math, I love it!</td>\n",
       "      <td>Everyone</td>\n",
       "      <td>38</td>\n",
       "      <td>3</td>\n",
       "    </tr>\n",
       "    <tr>\n",
       "      <th>2</th>\n",
       "      <td>2</td>\n",
       "      <td>9</td>\n",
       "      <td>Photomath</td>\n",
       "      <td>Kaleb Wallis</td>\n",
       "      <td>March 8, 2019</td>\n",
       "      <td>5</td>\n",
       "      <td>great if your in school or have homework</td>\n",
       "      <td>EDUCATION</td>\n",
       "      <td>photomath</td>\n",
       "      <td>great if your in school or have homework</td>\n",
       "      <td>Everyone</td>\n",
       "      <td>40</td>\n",
       "      <td>3</td>\n",
       "    </tr>\n",
       "    <tr>\n",
       "      <th>3</th>\n",
       "      <td>3</td>\n",
       "      <td>10</td>\n",
       "      <td>Photomath</td>\n",
       "      <td>juana</td>\n",
       "      <td>March 8, 2019</td>\n",
       "      <td>4</td>\n",
       "      <td>It is working amazing for me Now i love to fin...</td>\n",
       "      <td>EDUCATION</td>\n",
       "      <td>photomath</td>\n",
       "      <td>It is working amazing for me!!! Now i love to ...</td>\n",
       "      <td>Everyone</td>\n",
       "      <td>159</td>\n",
       "      <td>3</td>\n",
       "    </tr>\n",
       "    <tr>\n",
       "      <th>4</th>\n",
       "      <td>4</td>\n",
       "      <td>11</td>\n",
       "      <td>Photomath</td>\n",
       "      <td>Duje Basic</td>\n",
       "      <td>March 8, 2019</td>\n",
       "      <td>5</td>\n",
       "      <td>really great and you have all the explanations...</td>\n",
       "      <td>EDUCATION</td>\n",
       "      <td>photomath</td>\n",
       "      <td>really great and you have all the explanations...</td>\n",
       "      <td>Everyone</td>\n",
       "      <td>72</td>\n",
       "      <td>3</td>\n",
       "    </tr>\n",
       "  </tbody>\n",
       "</table>\n",
       "</div>"
      ],
      "text/plain": [
       "   Unnamed: 0  index   appTitle         userName           date  score  \\\n",
       "0           0      2  Photomath              NaN  March 8, 2019      5   \n",
       "1           1      6  Photomath  אוביידו אדריאנה  March 8, 2019      5   \n",
       "2           2      9  Photomath     Kaleb Wallis  March 8, 2019      5   \n",
       "3           3     10  Photomath            juana  March 8, 2019      4   \n",
       "4           4     11  Photomath       Duje Basic  March 8, 2019      5   \n",
       "\n",
       "                                                text   category  \\\n",
       "0  Great App Detailed answers Understandable answers  EDUCATION   \n",
       "1             Great tool for learning math I love it  EDUCATION   \n",
       "2           great if your in school or have homework  EDUCATION   \n",
       "3  It is working amazing for me Now i love to fin...  EDUCATION   \n",
       "4  really great and you have all the explanations...  EDUCATION   \n",
       "\n",
       "  appTitle_lower                                           text_org  \\\n",
       "0      photomath  Great App. Detailed answers. Understandable an...   \n",
       "1      photomath           Great tool for learning math, I love it!   \n",
       "2      photomath           great if your in school or have homework   \n",
       "3      photomath  It is working amazing for me!!! Now i love to ...   \n",
       "4      photomath  really great and you have all the explanations...   \n",
       "\n",
       "  contentRating  Review Length  month  \n",
       "0      Everyone             49      3  \n",
       "1      Everyone             38      3  \n",
       "2      Everyone             40      3  \n",
       "3      Everyone            159      3  \n",
       "4      Everyone             72      3  "
      ]
     },
     "execution_count": 3,
     "metadata": {},
     "output_type": "execute_result"
    }
   ],
   "source": [
    "testingData.head()"
   ]
  },
  {
   "cell_type": "code",
   "execution_count": 5,
   "metadata": {},
   "outputs": [],
   "source": [
    "sample=testingData.sample(n=300, random_state=1)"
   ]
  },
  {
   "cell_type": "code",
   "execution_count": 9,
   "metadata": {},
   "outputs": [],
   "source": [
    "sample.to_csv(\"Testing300Sample.csv\")\n"
   ]
  },
  {
   "cell_type": "code",
   "execution_count": 10,
   "metadata": {},
   "outputs": [],
   "source": [
    "sample2=testingData.sample(n=400, random_state=1)"
   ]
  },
  {
   "cell_type": "code",
   "execution_count": 12,
   "metadata": {},
   "outputs": [],
   "source": [
    "sample2.to_csv(\"Testing400Sample.csv\")"
   ]
  }
 ],
 "metadata": {
  "kernelspec": {
   "display_name": "Python 3",
   "language": "python",
   "name": "python3"
  },
  "language_info": {
   "codemirror_mode": {
    "name": "ipython",
    "version": 3
   },
   "file_extension": ".py",
   "mimetype": "text/x-python",
   "name": "python",
   "nbconvert_exporter": "python",
   "pygments_lexer": "ipython3",
   "version": "3.7.3"
  }
 },
 "nbformat": 4,
 "nbformat_minor": 2
}
