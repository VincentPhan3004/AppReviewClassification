{
 "cells": [
  {
   "cell_type": "code",
   "execution_count": 1,
   "metadata": {},
   "outputs": [],
   "source": [
    "import requests, json, os, warnings, re\n",
    "import pandas as pd\n",
    "import datetime\n",
    "import matplotlib.pyplot as plt\n",
    "import sys\n",
    "import glob"
   ]
  },
  {
   "cell_type": "markdown",
   "metadata": {},
   "source": [
    "#### Loading testing database"
   ]
  },
  {
   "cell_type": "code",
   "execution_count": null,
   "metadata": {},
   "outputs": [],
   "source": []
  },
  {
   "cell_type": "markdown",
   "metadata": {},
   "source": [
    "#### Loading training database"
   ]
  },
  {
   "cell_type": "code",
   "execution_count": 10,
   "metadata": {},
   "outputs": [],
   "source": [
    "data_raw= pd.read_json(\"./1.TrainingData/all.json\") "
   ]
  },
  {
   "cell_type": "code",
   "execution_count": 11,
   "metadata": {},
   "outputs": [
    {
     "data": {
      "text/html": [
       "<div>\n",
       "<style scoped>\n",
       "    .dataframe tbody tr th:only-of-type {\n",
       "        vertical-align: middle;\n",
       "    }\n",
       "\n",
       "    .dataframe tbody tr th {\n",
       "        vertical-align: top;\n",
       "    }\n",
       "\n",
       "    .dataframe thead th {\n",
       "        text-align: right;\n",
       "    }\n",
       "</style>\n",
       "<table border=\"1\" class=\"dataframe\">\n",
       "  <thead>\n",
       "    <tr style=\"text-align: right;\">\n",
       "      <th></th>\n",
       "      <th>Exclude</th>\n",
       "      <th>appId</th>\n",
       "      <th>comment</th>\n",
       "      <th>dataSource</th>\n",
       "      <th>date</th>\n",
       "      <th>fee</th>\n",
       "      <th>future</th>\n",
       "      <th>id</th>\n",
       "      <th>label</th>\n",
       "      <th>lemmatized_comment</th>\n",
       "      <th>...</th>\n",
       "      <th>reviewId</th>\n",
       "      <th>reviewer</th>\n",
       "      <th>sentiScore</th>\n",
       "      <th>sentiScore_neg</th>\n",
       "      <th>sentiScore_pos</th>\n",
       "      <th>stemmed</th>\n",
       "      <th>stopwords_removal</th>\n",
       "      <th>stopwords_removal_lemmatization</th>\n",
       "      <th>stopwords_removal_nltk</th>\n",
       "      <th>title</th>\n",
       "    </tr>\n",
       "  </thead>\n",
       "  <tbody>\n",
       "    <tr>\n",
       "      <th>0</th>\n",
       "      <td>NaN</td>\n",
       "      <td>None</td>\n",
       "      <td>Besides the occasional crash, this is an amazi...</td>\n",
       "      <td>RE2014_app_and_play_store_apps</td>\n",
       "      <td>None</td>\n",
       "      <td>None</td>\n",
       "      <td>0</td>\n",
       "      <td>264</td>\n",
       "      <td>Bug</td>\n",
       "      <td>besides the occasional crash, this be an amaze...</td>\n",
       "      <td>...</td>\n",
       "      <td>10946</td>\n",
       "      <td>None</td>\n",
       "      <td>3</td>\n",
       "      <td>-1</td>\n",
       "      <td>3</td>\n",
       "      <td>besid the occa crash, thi is an amaz produc wi...</td>\n",
       "      <td>besides occasional crash, this amazing product...</td>\n",
       "      <td>besides occasional crash, this amaze product w...</td>\n",
       "      <td>besides occasional crash, amazing product tons...</td>\n",
       "      <td>Almost perfect</td>\n",
       "    </tr>\n",
       "    <tr>\n",
       "      <th>1</th>\n",
       "      <td>NaN</td>\n",
       "      <td>382698565</td>\n",
       "      <td>This could be a great app if it was predictabl...</td>\n",
       "      <td>AppStore_Random</td>\n",
       "      <td>None</td>\n",
       "      <td>None</td>\n",
       "      <td>0</td>\n",
       "      <td>111</td>\n",
       "      <td>Bug</td>\n",
       "      <td>this could be a great app if it be predictable...</td>\n",
       "      <td>...</td>\n",
       "      <td>638</td>\n",
       "      <td>None</td>\n",
       "      <td>3</td>\n",
       "      <td>-1</td>\n",
       "      <td>3</td>\n",
       "      <td>thi could be a gre ap if it was predictable, b...</td>\n",
       "      <td>this could be great app if was predictable, bu...</td>\n",
       "      <td>this could be great app if be predictable, but...</td>\n",
       "      <td>could great app predictable, full bugs unpredi...</td>\n",
       "      <td>Take a photo of your boarding pass</td>\n",
       "    </tr>\n",
       "    <tr>\n",
       "      <th>2</th>\n",
       "      <td>NaN</td>\n",
       "      <td>None</td>\n",
       "      <td>I can't open since the last 2 updates Pop-ups ...</td>\n",
       "      <td>RE2014_app_and_play_store_apps</td>\n",
       "      <td>None</td>\n",
       "      <td>None</td>\n",
       "      <td>0</td>\n",
       "      <td>210</td>\n",
       "      <td>Bug</td>\n",
       "      <td>i can't open since the last 2 update pop-up go...</td>\n",
       "      <td>...</td>\n",
       "      <td>3129</td>\n",
       "      <td>None</td>\n",
       "      <td>2</td>\n",
       "      <td>-1</td>\n",
       "      <td>2</td>\n",
       "      <td>i can't op sint the last 2 upd pop-ups go craz...</td>\n",
       "      <td>can't open since last 2 updates pop-ups go cra...</td>\n",
       "      <td>can't open since last 2 update pop-up go crazy...</td>\n",
       "      <td>can't open since last 2 updates pop-ups go cra...</td>\n",
       "      <td>Won't open due to pop-ups since upgrade</td>\n",
       "    </tr>\n",
       "  </tbody>\n",
       "</table>\n",
       "<p>3 rows × 25 columns</p>\n",
       "</div>"
      ],
      "text/plain": [
       "  Exclude      appId                                            comment  \\\n",
       "0     NaN       None  Besides the occasional crash, this is an amazi...   \n",
       "1     NaN  382698565  This could be a great app if it was predictabl...   \n",
       "2     NaN       None  I can't open since the last 2 updates Pop-ups ...   \n",
       "\n",
       "                       dataSource  date   fee  future   id label  \\\n",
       "0  RE2014_app_and_play_store_apps  None  None       0  264   Bug   \n",
       "1                 AppStore_Random  None  None       0  111   Bug   \n",
       "2  RE2014_app_and_play_store_apps  None  None       0  210   Bug   \n",
       "\n",
       "                                  lemmatized_comment  ...  reviewId  reviewer  \\\n",
       "0  besides the occasional crash, this be an amaze...  ...     10946      None   \n",
       "1  this could be a great app if it be predictable...  ...       638      None   \n",
       "2  i can't open since the last 2 update pop-up go...  ...      3129      None   \n",
       "\n",
       "   sentiScore  sentiScore_neg  sentiScore_pos  \\\n",
       "0           3              -1               3   \n",
       "1           3              -1               3   \n",
       "2           2              -1               2   \n",
       "\n",
       "                                             stemmed  \\\n",
       "0  besid the occa crash, thi is an amaz produc wi...   \n",
       "1  thi could be a gre ap if it was predictable, b...   \n",
       "2  i can't op sint the last 2 upd pop-ups go craz...   \n",
       "\n",
       "                                   stopwords_removal  \\\n",
       "0  besides occasional crash, this amazing product...   \n",
       "1  this could be great app if was predictable, bu...   \n",
       "2  can't open since last 2 updates pop-ups go cra...   \n",
       "\n",
       "                     stopwords_removal_lemmatization  \\\n",
       "0  besides occasional crash, this amaze product w...   \n",
       "1  this could be great app if be predictable, but...   \n",
       "2  can't open since last 2 update pop-up go crazy...   \n",
       "\n",
       "                              stopwords_removal_nltk  \\\n",
       "0  besides occasional crash, amazing product tons...   \n",
       "1  could great app predictable, full bugs unpredi...   \n",
       "2  can't open since last 2 updates pop-ups go cra...   \n",
       "\n",
       "                                     title  \n",
       "0                           Almost perfect  \n",
       "1       Take a photo of your boarding pass  \n",
       "2  Won't open due to pop-ups since upgrade  \n",
       "\n",
       "[3 rows x 25 columns]"
      ]
     },
     "execution_count": 11,
     "metadata": {},
     "output_type": "execute_result"
    }
   ],
   "source": [
    "data_raw[0:3]"
   ]
  },
  {
   "cell_type": "code",
   "execution_count": 43,
   "metadata": {},
   "outputs": [],
   "source": [
    "trainingText = data_raw[\"stopwords_removal_nltk\"]\n",
    "trainingResponse=data_raw.label"
   ]
  },
  {
   "cell_type": "markdown",
   "metadata": {},
   "source": [
    "#### 1.  STARTING TO TRAIN THE MODEL"
   ]
  },
  {
   "cell_type": "markdown",
   "metadata": {},
   "source": [
    "#### 1.1 Vectorizing the data"
   ]
  },
  {
   "cell_type": "code",
   "execution_count": 45,
   "metadata": {},
   "outputs": [
    {
     "name": "stdout",
     "output_type": "stream",
     "text": [
      "5\n",
      "16\n",
      "8\n",
      "14\n",
      "55\n"
     ]
    }
   ],
   "source": [
    "from sklearn.feature_extraction.text import CountVectorizer\n",
    "vect = CountVectorizer(max_features=1000)\n",
    "trainingText_stopwords_removal_nlt = vect.fit_transform(trainingText).toarray()\n",
    "for i in range(5):\n",
    "    print(sum(trainingText_stopwords_removal_nlt[i]))"
   ]
  },
  {
   "cell_type": "markdown",
   "metadata": {},
   "source": [
    "#### 1.2 Training the model"
   ]
  },
  {
   "cell_type": "code",
   "execution_count": 51,
   "metadata": {},
   "outputs": [
    {
     "data": {
      "text/plain": [
       "0.25602817664589544"
      ]
     },
     "execution_count": 51,
     "metadata": {},
     "output_type": "execute_result"
    }
   ],
   "source": [
    "# Naive Bayes \n",
    "from sklearn.naive_bayes import GaussianNB\n",
    "classifier = GaussianNB()\n",
    "classifier.fit(trainingText_stopwords_removal_nlt, trainingResponse)\n",
    "\n",
    "# Predict Class\n",
    "y_pred = classifier.predict(trainingText_stopwords_removal_nlt)\n",
    "\n",
    "# Accuracy \n",
    "from sklearn.metrics import accuracy_score\n",
    "accuracy = accuracy_score(trainingResponse, y_pred)\n",
    "accuracy"
   ]
  },
  {
   "cell_type": "markdown",
   "metadata": {},
   "source": [
    "#### 2. STARTING TESTING MODEL"
   ]
  },
  {
   "cell_type": "markdown",
   "metadata": {},
   "source": [
    "#### 2.1 Loading Testing Data "
   ]
  },
  {
   "cell_type": "code",
   "execution_count": 54,
   "metadata": {},
   "outputs": [],
   "source": [
    "testingData=pd.read_csv(\"./2.TestingData/Data542_finaldata_final.csv\")"
   ]
  },
  {
   "cell_type": "code",
   "execution_count": 55,
   "metadata": {},
   "outputs": [
    {
     "data": {
      "text/html": [
       "<div>\n",
       "<style scoped>\n",
       "    .dataframe tbody tr th:only-of-type {\n",
       "        vertical-align: middle;\n",
       "    }\n",
       "\n",
       "    .dataframe tbody tr th {\n",
       "        vertical-align: top;\n",
       "    }\n",
       "\n",
       "    .dataframe thead th {\n",
       "        text-align: right;\n",
       "    }\n",
       "</style>\n",
       "<table border=\"1\" class=\"dataframe\">\n",
       "  <thead>\n",
       "    <tr style=\"text-align: right;\">\n",
       "      <th></th>\n",
       "      <th>Unnamed: 0</th>\n",
       "      <th>index</th>\n",
       "      <th>appTitle</th>\n",
       "      <th>userName</th>\n",
       "      <th>date</th>\n",
       "      <th>score</th>\n",
       "      <th>text</th>\n",
       "      <th>category</th>\n",
       "      <th>appTitle_lower</th>\n",
       "      <th>text_org</th>\n",
       "      <th>contentRating</th>\n",
       "      <th>Review Length</th>\n",
       "      <th>month</th>\n",
       "    </tr>\n",
       "  </thead>\n",
       "  <tbody>\n",
       "    <tr>\n",
       "      <th>0</th>\n",
       "      <td>0</td>\n",
       "      <td>2</td>\n",
       "      <td>Photomath</td>\n",
       "      <td>NaN</td>\n",
       "      <td>March 8, 2019</td>\n",
       "      <td>5</td>\n",
       "      <td>Great App Detailed answers Understandable answers</td>\n",
       "      <td>EDUCATION</td>\n",
       "      <td>photomath</td>\n",
       "      <td>Great App. Detailed answers. Understandable an...</td>\n",
       "      <td>Everyone</td>\n",
       "      <td>49</td>\n",
       "      <td>3</td>\n",
       "    </tr>\n",
       "    <tr>\n",
       "      <th>1</th>\n",
       "      <td>1</td>\n",
       "      <td>6</td>\n",
       "      <td>Photomath</td>\n",
       "      <td>אוביידו אדריאנה</td>\n",
       "      <td>March 8, 2019</td>\n",
       "      <td>5</td>\n",
       "      <td>Great tool for learning math I love it</td>\n",
       "      <td>EDUCATION</td>\n",
       "      <td>photomath</td>\n",
       "      <td>Great tool for learning math, I love it!</td>\n",
       "      <td>Everyone</td>\n",
       "      <td>38</td>\n",
       "      <td>3</td>\n",
       "    </tr>\n",
       "    <tr>\n",
       "      <th>2</th>\n",
       "      <td>2</td>\n",
       "      <td>9</td>\n",
       "      <td>Photomath</td>\n",
       "      <td>Kaleb Wallis</td>\n",
       "      <td>March 8, 2019</td>\n",
       "      <td>5</td>\n",
       "      <td>great if your in school or have homework</td>\n",
       "      <td>EDUCATION</td>\n",
       "      <td>photomath</td>\n",
       "      <td>great if your in school or have homework</td>\n",
       "      <td>Everyone</td>\n",
       "      <td>40</td>\n",
       "      <td>3</td>\n",
       "    </tr>\n",
       "    <tr>\n",
       "      <th>3</th>\n",
       "      <td>3</td>\n",
       "      <td>10</td>\n",
       "      <td>Photomath</td>\n",
       "      <td>juana</td>\n",
       "      <td>March 8, 2019</td>\n",
       "      <td>4</td>\n",
       "      <td>It is working amazing for me Now i love to fin...</td>\n",
       "      <td>EDUCATION</td>\n",
       "      <td>photomath</td>\n",
       "      <td>It is working amazing for me!!! Now i love to ...</td>\n",
       "      <td>Everyone</td>\n",
       "      <td>159</td>\n",
       "      <td>3</td>\n",
       "    </tr>\n",
       "    <tr>\n",
       "      <th>4</th>\n",
       "      <td>4</td>\n",
       "      <td>11</td>\n",
       "      <td>Photomath</td>\n",
       "      <td>Duje Basic</td>\n",
       "      <td>March 8, 2019</td>\n",
       "      <td>5</td>\n",
       "      <td>really great and you have all the explanations...</td>\n",
       "      <td>EDUCATION</td>\n",
       "      <td>photomath</td>\n",
       "      <td>really great and you have all the explanations...</td>\n",
       "      <td>Everyone</td>\n",
       "      <td>72</td>\n",
       "      <td>3</td>\n",
       "    </tr>\n",
       "  </tbody>\n",
       "</table>\n",
       "</div>"
      ],
      "text/plain": [
       "   Unnamed: 0  index   appTitle         userName           date  score  \\\n",
       "0           0      2  Photomath              NaN  March 8, 2019      5   \n",
       "1           1      6  Photomath  אוביידו אדריאנה  March 8, 2019      5   \n",
       "2           2      9  Photomath     Kaleb Wallis  March 8, 2019      5   \n",
       "3           3     10  Photomath            juana  March 8, 2019      4   \n",
       "4           4     11  Photomath       Duje Basic  March 8, 2019      5   \n",
       "\n",
       "                                                text   category  \\\n",
       "0  Great App Detailed answers Understandable answers  EDUCATION   \n",
       "1             Great tool for learning math I love it  EDUCATION   \n",
       "2           great if your in school or have homework  EDUCATION   \n",
       "3  It is working amazing for me Now i love to fin...  EDUCATION   \n",
       "4  really great and you have all the explanations...  EDUCATION   \n",
       "\n",
       "  appTitle_lower                                           text_org  \\\n",
       "0      photomath  Great App. Detailed answers. Understandable an...   \n",
       "1      photomath           Great tool for learning math, I love it!   \n",
       "2      photomath           great if your in school or have homework   \n",
       "3      photomath  It is working amazing for me!!! Now i love to ...   \n",
       "4      photomath  really great and you have all the explanations...   \n",
       "\n",
       "  contentRating  Review Length  month  \n",
       "0      Everyone             49      3  \n",
       "1      Everyone             38      3  \n",
       "2      Everyone             40      3  \n",
       "3      Everyone            159      3  \n",
       "4      Everyone             72      3  "
      ]
     },
     "execution_count": 55,
     "metadata": {},
     "output_type": "execute_result"
    }
   ],
   "source": [
    "testingData.head()"
   ]
  },
  {
   "cell_type": "markdown",
   "metadata": {},
   "source": [
    "#### 2.1 Preprocessing the testing data"
   ]
  },
  {
   "cell_type": "code",
   "execution_count": null,
   "metadata": {},
   "outputs": [],
   "source": [
    "import re\n",
    "import pandas as pd\n",
    "from nltk.tokenize import word_tokenize\n",
    "from nltk.corpus import stopwords \n",
    "\n",
    "\n",
    "testingText = testingData.text\n",
    "\n",
    "#Preprocessing the data: Remove none alphabetic characters/Make the word lower case/Remove the stop words\n",
    "\n",
    "def mutlti_func(x):       \n",
    "    text= word_tokenize(str(re.sub('[^A-Za-z]', ' ', x)).lower())\n",
    "    for word in text:\n",
    "        if word in stopwords.words('english'):\n",
    "            text.remove(word)\n",
    "    return text\n",
    "\n",
    "\n",
    "testingText=testingText.apply(mutlti_func)\n",
    "testingText.head()"
   ]
  },
  {
   "cell_type": "code",
   "execution_count": null,
   "metadata": {},
   "outputs": [],
   "source": [
    "from nltk.stem.porter import PorterStemmer\n",
    "from spellchecker import SpellChecker\n",
    "\n",
    "\n",
    "# Stemming / Spelling \n",
    "spell = SpellChecker()\n",
    "stemmer = PorterStemmer()\n",
    "\n",
    "def stem_spell_fuc(x):\n",
    "    for i in range(len(x)):\n",
    "        #x[i] = stemmer.stem(spell.correction(x[i]))\n",
    "        x[i] = stemmer.stem(x[i])\n",
    "    return x\n",
    "\n",
    "testingText=testingText.apply(stem_spell_fuc)\n",
    "testingText.head()"
   ]
  },
  {
   "cell_type": "code",
   "execution_count": null,
   "metadata": {},
   "outputs": [],
   "source": [
    "def join_fuc(x):\n",
    "    x = \" \".join(x)\n",
    "    return x\n",
    "\n",
    "testingText=testingText.apply(join_fuc)\n",
    "testingText"
   ]
  },
  {
   "cell_type": "markdown",
   "metadata": {},
   "source": [
    "#### 2.2 Running testing data"
   ]
  },
  {
   "cell_type": "code",
   "execution_count": null,
   "metadata": {},
   "outputs": [],
   "source": [
    "# Predict Class\n",
    "y_testing_pred = classifier.predict(testingText)\n",
    "y_testing_pred.head(20)\n"
   ]
  }
 ],
 "metadata": {
  "kernelspec": {
   "display_name": "Python 3",
   "language": "python",
   "name": "python3"
  },
  "language_info": {
   "codemirror_mode": {
    "name": "ipython",
    "version": 3
   },
   "file_extension": ".py",
   "mimetype": "text/x-python",
   "name": "python",
   "nbconvert_exporter": "python",
   "pygments_lexer": "ipython3",
   "version": "3.7.3"
  }
 },
 "nbformat": 4,
 "nbformat_minor": 2
}
